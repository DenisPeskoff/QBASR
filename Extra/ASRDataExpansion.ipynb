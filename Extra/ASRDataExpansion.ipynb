{
 "cells": [
  {
   "cell_type": "markdown",
   "metadata": {},
   "source": [
    "This notebook reads in data from a specifically formatted file (ASR'd format),\n",
    "queries a pre-existing alignment matrix, and generates expanded vocabulary for each question.  The bottom half converts questions broken up by sentences into a single question."
   ]
  },
  {
   "cell_type": "markdown",
   "metadata": {},
   "source": [
    "# Generating Expanded Data"
   ]
  },
  {
   "cell_type": "code",
   "execution_count": 9,
   "metadata": {
    "collapsed": true
   },
   "outputs": [],
   "source": [
    "import json\n",
    "import numpy as np\n",
    "import os\n",
    "\n",
    "from sklearn.feature_extraction.text import TfidfVectorizer\n",
    "from collections import defaultdict\n",
    "from typing import List, Dict, NamedTuple, Tuple\n",
    "from tqdm import tqdm\n",
    "\n"
   ]
  },
  {
   "cell_type": "code",
   "execution_count": null,
   "metadata": {
    "collapsed": true
   },
   "outputs": [],
   "source": [
    "class Translation(NamedTuple):\n",
    "    word: str\n",
    "    prob: float\n",
    "\n",
    "    def __add__(self, other):\n",
    "        return Translation(self.word + ', ' + other.word, self.prob + other.prob)\n",
    "\n",
    "    def __radd__(self, other):\n",
    "        if other == 0: return self\n",
    "        return self.__add__(other)\n",
    "\n",
    "\n",
    "class TPM(defaultdict):\n",
    "    def up_to(self, k: str, p: float = 0.9) -> List[Translation]:\n",
    "        sorted, included = self.sorted(k), []\n",
    "        i = 0 ; prob = 0.\n",
    "        while prob < p:\n",
    "            included.append(sorted[i])\n",
    "            prob += sorted[i].prob ; i += 1\n",
    "        return included\n",
    "\n",
    "    def sorted(self, k: str) -> List[Translation]:\n",
    "        return sorted(self[k], key=lambda t: t.prob, reverse=True)\n",
    "\n",
    "\n",
    "def read_translation_probability_matrix(fp) -> TPM:\n",
    "    probabilities = TPM(list)\n",
    "    for line in tqdm(fp):\n",
    "        w2, w1, prob = line.strip().split()\n",
    "        probabilities[w1].append(Translation(w2, float(prob)))\n",
    "    return probabilities\n",
    "\n",
    "\n",
    "if __name__ == '__main__':\n",
    "    with open('/fs/clip-scratch/jdbarrow/qanta/lex.out') as fp:\n",
    "    #\n",
    "    #with open('/fs/clip-scratch/yogarshi/qanta-joe/align-try2/train/lex.f2e') as fp:\n",
    "        tpm = read_translation_probability_matrix(fp)"
   ]
  },
  {
   "cell_type": "markdown",
   "metadata": {},
   "source": [
    "### Make sure you specify the correct file"
   ]
  },
  {
   "cell_type": "code",
   "execution_count": null,
   "metadata": {
    "collapsed": true
   },
   "outputs": [],
   "source": [
    "with open('/fs/clip-quiz/dpeskov/data/asr_qanta.test.2018.04.18.json') as f:\n",
    "    data = json.load(f)"
   ]
  },
  {
   "cell_type": "code",
   "execution_count": 10,
   "metadata": {
    "collapsed": true,
    "scrolled": true
   },
   "outputs": [],
   "source": [
    "for question in data['questions']:\n",
    "    new_question = []\n",
    "    new_question_confidences = []\n",
    "    for q_index, sentence in enumerate(question['sentences']):\n",
    "        new_sentence = []\n",
    "        new_sentence_confidences = []\n",
    "        for s_index, word in enumerate(sentence): \n",
    "                \n",
    "            try:\n",
    "                #print(word, [tupple[0] for tupple in tpm.up_to(word, .9) if tupple[0] not in ['unk','NULL']])\n",
    "                new_sentence.extend([tupple[0] for tupple in tpm.up_to(word, .9)[:5] if tupple[0] not in ['unk','NULL']])\n",
    "                new_sentence_confidences.extend([tupple[1] for tupple in tpm.up_to(word, .9)[:5] if tupple[0] not in ['unk', 'NULL']])\n",
    "            except:\n",
    "                new_sentence.extend([word])\n",
    "                new_sentence_confidences.extend([question['confidences'][q_index][s_index]])\n",
    "                #print (\"Issue with \", word)\n",
    "\n",
    "        new_question.append(new_sentence)\n",
    "        new_question_confidences.append(new_sentence_confidences)\n",
    "    question['sentences'] = new_question\n",
    "    question['confidences'] = new_question_confidences"
   ]
  },
  {
   "cell_type": "markdown",
   "metadata": {},
   "source": [
    "### Specify the write location of new file"
   ]
  },
  {
   "cell_type": "code",
   "execution_count": 11,
   "metadata": {
    "collapsed": false
   },
   "outputs": [
    {
     "name": "stdout",
     "output_type": "stream",
     "text": [
      "Writing out file of length  2151\n"
     ]
    }
   ],
   "source": [
    "print (\"Writing out file of length \", len(data['questions']))\n",
    "with open(f'/fs/clip-quiz/dpeskov/data/asr_qanta.test_expanded_v2.2018.04.18.json', 'w') as fp:\n",
    "    json.dump({\"questions\":data['questions']}, fp)"
   ]
  },
  {
   "cell_type": "markdown",
   "metadata": {},
   "source": [
    "# Converting Data Indvidual Sentences to One Question"
   ]
  },
  {
   "cell_type": "code",
   "execution_count": 12,
   "metadata": {
    "collapsed": true
   },
   "outputs": [],
   "source": [
    "import json\n",
    "with open('/fs/clip-quiz/dpeskov/data/asr_qanta.dev_expanded.2018.04.18.json') as f:\n",
    "    data = json.load(f)"
   ]
  },
  {
   "cell_type": "code",
   "execution_count": 13,
   "metadata": {
    "collapsed": false
   },
   "outputs": [
    {
     "name": "stdout",
     "output_type": "stream",
     "text": [
      "[{'qnum': 93135, 'sentences': [['five', 'years', 'after', 'a', 'the', 'uh', 'payment', 'payments', 'painting', 'if', 'its', 'is', 'ten', 'pretend', 'million', 'dollars', 'dollars', 'healthy', 'area', 'issue', 'issues', 'you', '<unk>', 'anthony', 'jones', 'joan', 'propose', 'proposed', 'plan', 'planned', 'plans', 'planning', '<unk>', 'power', 'reserves', 'reserve', 'reserved', 'a', 'the', 'uh', 'week', 'weekend', 'weak', 'weeks', 'or', 'are', 'our', 'so', 'that', 'oh', 'i', 'first', 'one', 'had', 'has', 'have', 'to', 'too', 'write', 'right', 'ride', 'split', 'but', 'led', 'into', 'to', 'in', '<unk>', 'in', 'and', 'you', 'the', 'a', 'that', 'future', 'i', 'first', 'one', '<unk>', 'began', 'begin', 'again', 'discussing', 'disgusting', 'this', 'the', 'it', 'plan', 'planned', 'plans', 'planning', 'was', 'with', 'would', 'able', 'to', 'too', 'lobster', 'before', 'for', 'or', 'are', 'our', 'after', 'he', 'you', 'hes', 'died', 'regulator', 'conduct', 'linear', 'moderator', 'with', 'was', 'within', '<unk>', 'before', 'for', 'this', 'the', 'it', 'deal', 'dealing', 'with', 'was', 'within', 'iraq', 'the', 'a', 'that', 'question', 'questions', 'of', 'whether', 'weather', 'its', 'the', 'a', 'that', '<unk>', 'river', 'reverse', 'became', 'a', 'the', 'uh', 'southern', 'other', 'border', 'borders', 'transaction', 'transactions', 'lead', 'leave', 'led', 'to', 'too', 'more', 'later', 'and', 'in', 'james', 'games', 'okay', '<unk>', 'presidency', 'president', 'presidents', '<unk>', 'diplomatic', 'post', 'posted', 'highest', 'indignation', 'of', 'events', 'event', 'fence', 'robert', 'watching', 'watch', 'them', 'argued', 'argue', 'that', 'the', 'at', 'feeling', 'to', 'too', 'take', 'action', 'actually', 'would', 'with', 'was', 'later', 'lead', 'leave', 'led', 'to', 'too', 'another', 'other', 'i', 'flow', 'slow', 'low', 'of', 'northern', 'insane', 'in', 'seen', 'asylum', 'thailand', 'this', 'british', 'intervention', 'pretend', 'point', 'points', 'pointed', 'named', 'name', 'names', 'deal', 'dealing', 'that', 'the', 'at', 'end', 'and', 'into', 'of', 'the', 'a', 'that', 'independent', '<unk>', 'republic', 'republican', 'republicans']], 'confidences': [[0.827552, 0.9690651, 0.8615113, 0.357505, 0.1012582, 0.0123785, 0.7054264, 0.0697674, 0.0697674, 0.4385965, 0.0438596, 0.0190058, 0.5721913, 0.3084176, 0.8677596, 0.1147541, 0.9727273, 0.8571429, 0.8744642, 0.8175355, 0.0236967, 0.021327, 0.9999993, 0.8817734, 0.6590437, 0.2037422, 0.597561, 0.3170732, 0.6613712, 0.0618729, 0.0459866, 0.0451505, 0.9999962, 0.9073951, 0.5505618, 0.2921348, 0.0786517, 0.357505, 0.1012582, 0.0123785, 0.832, 0.0426667, 0.024, 0.0186667, 0.4073581, 0.0289418, 0.0150666, 0.4461538, 0.0315934, 0.0107143, 0.4627304, 0.1504871, 0.0995422, 0.7615092, 0.0327825, 0.0158169, 0.6730136, 0.0107746, 0.5911111, 0.2115556, 0.0791111, 0.53125, 0.0339674, 0.0203804, 0.7751009, 0.0298139, 0.0251762, 0.9995797, 0.5129464, 0.153363, 0.004666, 0.6708533, 0.0247655, 0.0098906, 0.9835014, 0.4627304, 0.1504871, 0.0995422, 0.9984781, 0.7634409, 0.0817204, 0.064086, 0.6637681, 0.1710145, 0.2634201, 0.080087, 0.0313049, 0.6613712, 0.0618729, 0.0459866, 0.0451505, 0.5561267, 0.1134377, 0.0124002, 0.9226957, 0.6730136, 0.0107746, 0.98, 0.8467145, 0.0766988, 0.4073581, 0.0289418, 0.0150666, 0.8615113, 0.7195902, 0.0322719, 0.0182324, 0.8790952, 0.8, 0.04, 0.02, 0.9615385, 0.7490369, 0.017048, 0.0129633, 0.9978834, 0.8467145, 0.0766988, 0.2634201, 0.080087, 0.0313049, 0.8268482, 0.0447471, 0.7490369, 0.017048, 0.0129633, 0.8714286, 0.6708533, 0.0247655, 0.0098906, 0.8865979, 0.0641466, 0.5728934, 0.8397669, 0.0487983, 0.0393299, 0.6708533, 0.0247655, 0.0098906, 0.9999955, 0.8325062, 0.0234181, 0.9403028, 0.357505, 0.1012582, 0.0123785, 0.8009119, 0.112462, 0.8454746, 0.0298013, 0.8305085, 0.1525424, 0.5797101, 0.0424047, 0.0295223, 0.6730136, 0.0107746, 0.9346328, 0.9026187, 0.4878534, 0.0702521, 0.7344693, 0.0141995, 1.0, 0.9931889, 0.7376238, 0.1410891, 0.0346535, 1, 0.9651163, 0.2868526, 0.0468127, 0.0318725, 0.9, 0.5728934, 0.5612591, 0.1598063, 0.0329298, 0.9412607, 0.2640693, 0.0995671, 0.0606061, 0.5403925, 0.4139662, 0.6012118, 0.0130218, 0.0089698, 0.9251101, 0.6730136, 0.0107746, 0.8848854, 0.7701863, 0.0248447, 0.6872436, 0.0252002, 0.0248095, 0.0214886, 0.5797101, 0.0424047, 0.0295223, 0.6730136, 0.0107746, 0.84484, 0.04816, 0.02984, 0.2830626, 0.2807425, 0.0336427, 0.5728934, 0.9741986, 0.6853147, 0.0384615, 0.020979, 0.5395349, 0.0511628, 0.027907, 0.9861203, 0.994709, 0.9393939, 0.837035, 0.0330372, 0.0277624, 0.640407, 0.1604825, 0.1113142, 0.8268482, 0.0447471, 0.6012118, 0.0130218, 0.0089698, 0.7331644, 0.0954019, 0.0133961, 0.5728934, 0.6708533, 0.0247655, 0.0098906, 0.9410188, 0.9994144, 0.6489362, 0.1731141, 0.1441006]], 'page': 'Texas_annexation'}, {'qnum': 93137, 'sentences': [['pretend', 'point', 'points', 'pointed', 'named', 'name', 'names', 'this', 'the', 'it', 'italian', 'american', 'director', 'mean', 'main', 'i', 'means', 'streets', 'street', 'taxi', 'tax', 'taxicabs', 'attacks', 'driver', 'drivers', 'drive', 'protagonist', 'protagonists', 'there', 'theyre', 'theres', 'their', 'was', 'with', 'would', 'one', 'of', 'his', 'hes', 'the', 'films', 'film', 'sounds', 'secret', 'secrets', 'bigger', 'up', 'out', 'makeup', 'there', 'theyre', 'theres', 'their', 'with', 'was', 'within', 'his', 'hes', 'the', 'epileptic', 'run', 'continent', 'content', '<unk>', 'hand', 'hands', 'handed', 'over', 'of', 'open', 'opened', 'flame', 'lame', 'flames', 'blame', 'restaurant', 'kitchen', 'in', 'and', 'you', 'church', 'director', 'used', 'you', 'use', 'when', 'went', 'one', 'he', 'you', 'hes', '<unk>', 'five', 'you', 'youre', 'quote', 'tried', 'try', 'to', 'too', 'show', 'so', 'joe', 'the', 'a', 'that', 'aftermath', 'of', 'massacre', 'math', 'master', 'and', 'in', 'oh', 'uhhuh', 'a', 'brussels', 'brooklyn', 'nebraska', 'run', 'running', 'right', 'by', 'buy', 'the', 'a', 'that', 'sport', 'sports', 'board', \"isn't\", 'that', 'the', 'at', 'film', 'films', 'year', 'of', 'his', 'hes', 'the', 'child', 'prostitutes', 'prostitute', 'irish', 'bethany', 'want', 'dont', 'you', 'charge', 'title', 'character', '<unk>', 'equal', 'and', 'in', 'one', 'of', 'the', 'a', 'that', 'director', 'film', 'films', 'year', 'the', 'a', 'that', 'opening', 'credits', 'credit', 'proceeded', 'proceed', 'needed', 'did', 'by', 'buy', 'a', 'the', 'uh', 'triple', '<unk>', 'towards', 'toward', 'for', 'the', 'a', 'that', 'protagonist', 'protagonists', 'with', 'was', 'within', 'his', 'hes', 'the', 'head', 'had', 'ahead', '<unk>', 'hello', 'although', 'thirteen', 'director', 'self', 'itself', 'stuff', 'identified', 'identify', 'film', 'films', 'year', 'the', 'a', 'that', 'documentary', 'that', 'the', 'at', 'in', 'and', 'you', 'a', 'the', 'uh', 'little', 'bit', 'it', 'but', 'street', 'streets', 'three', 'department', 'featuring', 'feature', 'teaching', 'conversations', 'conversation', 'with', 'was', 'within', 'his', 'hes', 'the', 'parents', '<unk>', 'catherine', 'katherine', 'catcher']], 'confidences': [[0.9393939, 0.837035, 0.0330372, 0.0277624, 0.640407, 0.1604825, 0.1113142, 0.2634201, 0.080087, 0.0313049, 0.8776371, 0.9645338, 0.925, 0.4292845, 0.0831947, 0.0815308, 0.0499168, 0.509434, 0.3433962, 0.7717391, 0.0326087, 0.0217391, 0.0217391, 0.7717391, 0.1141304, 0.0543478, 0.7895011, 0.1973753, 0.4991703, 0.1062064, 0.0955858, 0.0444739, 0.5561267, 0.1134377, 0.0124002, 0.8719238, 0.5728934, 0.6050743, 0.0250086, 0.0134684, 0.4491525, 0.3949153, 0.0322034, 0.7425569, 0.0437828, 0.0262697, 0.7997474, 0.0157309, 0.0068894, 0.4991703, 0.1062064, 0.0955858, 0.0444739, 0.7490369, 0.017048, 0.0129633, 0.6050743, 0.0250086, 0.0134684, 0.8857143, 0.0285714, 0.7964602, 0.0309735, 0.9986915, 0.7782999, 0.0495515, 0.0324648, 0.831724, 0.0143433, 0.8409273, 0.0223821, 0.4699248, 0.0451128, 0.0338346, 0.0263158, 0.9529412, 0.9487179, 0.5129464, 0.153363, 0.004666, 0.9144801, 0.925, 0.4825963, 0.1121021, 0.0963087, 0.6069835, 0.0299209, 0.0271846, 0.7195902, 0.0322719, 0.0182324, 0.9908637, 0.827552, 0.8055854, 0.0153061, 0.0099356, 0.6827195, 0.1756374, 0.6730136, 0.0107746, 0.6977099, 0.0722646, 0.0279898, 0.6708533, 0.0247655, 0.0098906, 0.915942, 0.5728934, 0.4046392, 0.0274914, 0.0197595, 0.4878534, 0.0702521, 0.5595238, 0.047619, 0.0198413, 0.1571429, 0.0428571, 0.0428571, 0.8009828, 0.036036, 0.01638, 0.6888245, 0.0103682, 0.6708533, 0.0247655, 0.0098906, 0.3, 0.1111111, 0.0555556, 0.5192956, 0.6012118, 0.0130218, 0.0089698, 0.7202703, 0.0367568, 0.0183784, 0.5728934, 0.6050743, 0.0250086, 0.0134684, 0.959292, 0.7142857, 0.1654135, 0.9651347, 0.5454545, 0.0909091, 0.0909091, 0.0909091, 0.0909091, 0.9393464, 0.937768, 0.721693, 0.9261805, 0.4878534, 0.0702521, 0.8719238, 0.5728934, 0.6708533, 0.0247655, 0.0098906, 0.925, 0.7202703, 0.0367568, 0.0183784, 0.6708533, 0.0247655, 0.0098906, 0.9385307, 0.7534247, 0.1917808, 0.76, 0.0533333, 0.04, 0.0133333, 0.6888245, 0.0103682, 0.357505, 0.1012582, 0.0123785, 0.9373219, 0.9072368, 0.7165992, 0.0313765, 0.0232794, 0.6708533, 0.0247655, 0.0098906, 0.7895011, 0.1973753, 0.7490369, 0.017048, 0.0129633, 0.6050743, 0.0250086, 0.0134684, 0.6307346, 0.1100478, 0.0185759, 0.9163007, 0.7234043, 0.0212766, 0.0212766, 0.925, 0.2354312, 0.0862471, 0.0536131, 0.8227666, 0.1368876, 0.7202703, 0.0367568, 0.0183784, 0.6708533, 0.0247655, 0.0098906, 0.9241706, 0.6012118, 0.0130218, 0.0089698, 0.5129464, 0.153363, 0.004666, 0.357505, 0.1012582, 0.0123785, 0.9430199, 0.3411765, 0.0470588, 0.0294118, 0.7386461, 0.0197087, 0.0154242, 0.9824561, 0.8105107, 0.0562546, 0.0481125, 0.8504673, 0.1401869, 0.7490369, 0.017048, 0.0129633, 0.6050743, 0.0250086, 0.0134684, 0.9667969, 0.985061, 0.3990385, 0.3413462, 0.0480769]], 'page': 'Martin_Scorsese'}, {'qnum': 93138, 'sentences': [['property', 'causes', 'caused', 'cause', \"that'd\", 'be', 'maybe', '<unk>', 'sentiment', 'in', 'and', 'you', 'homogeneous', 'classified', 'decreed', 'magnetic', 'field', 'feel', 'split', 'but', 'led', 'into', 'to', 'in', 'two', 'to', 'too', 'being', 'instead', 'dead', 'said', 'that', 'of', 'farming', 'a', 'the', 'uh', 'continuous', 'continuously', 'continue', 'band', 'banned', 'ban', 'property', 'described', 'describe', 'describing', 'describes', 'by', 'buy', 'instead', 'dead', 'said', 'that', 'of', 'permission', '<unk>', 'named', 'name', 'point', 'points', 'for', 'pretend', 'ten', 'wolfgang', 'shelley', 'deli', 'is', 'discovered', 'covered', 'governed', 'in', 'and', 'you', 'the', 'a', 'that', '<unk>', 'experiment', 'ten', 'pretend', 'point', 'points', 'pointed', '<unk>', 'this', 'the', 'it', 'intrinsic', 'infringement', 'factor', 'form', 'for', 'here', 'of', '<unk>', 'you', 'youre', 'quote', 'learn', 'learned', 'momentum', 'here', \"who'd\", 'quantum', 'point', 'mechanical', '<unk>', 'can', 'and', 'could', 'be', 'maybe', 'a', 'the', 'uh', 'plus', 'squared', 'quantity', 'or', 'are', 'our', 'minus', 'mine', 'is', 'one', 'house', 'how', 'health', 'for', 'pretend', 'ten', 'electronics', 'electronic', 'property', 'separate', 'separated', 'hydrogen', 'from', '<unk>', 'hydrogen', 'total', 'value', 'is', 'its', 'it', '<unk>', 'and', 'in', 'one', 'for', 'pretend', 'ten', 'a', 'the', 'uh', 'triplets', 'triplet', 'triple', '<unk>', 'similar', 'way', 'away', 'of', 'like', 'urban', 'been', 'never', 'and', 'in', 'the', 'a', 'that', 'collective', 'structure', 'property', 'for', 'pretend', 'ten', 'the', 'a', 'that', 'loudest', 'actress', 'minstrel', '<unk>', 'along', 'long', 'with', 'was', 'within', '<unk>', 'and', 'in', 'holland', 'talent', 'pollen', '<unk>', 'particles', 'articles', 'particle', 'carrying', 'caring', 'this', 'the', 'it', 'property', 'foreign', 'for', 'from', 'electronics', 'electronic', 'and', 'in', 'letting', 'let', 'him', 'sooner', 'her', 'your', 'or', 'liquid', 'carry', 'kerry', 'density', 'city', 'intensity', 'way', 'away', 'in', 'and', 'you', 'charge', 'church', 'charging', 'charged', 'charges', 'and', 'in', 'this', 'the', 'it', 'property']], 'confidences': [[0.9887372, 0.5522738, 0.0220347, 0.0201594, 0.591293, 0.827707, 0.0386466, 0.9999995, 0.9180328, 0.5129464, 0.153363, 0.004666, 0.8297872, 0.0212766, 0.0212766, 0.9853282, 0.8380216, 0.0272025, 0.53125, 0.0339674, 0.0203804, 0.7751009, 0.0298139, 0.0251762, 0.4454216, 0.1461998, 0.0600682, 0.9329296, 0.7975779, 0.0334487, 0.0265283, 0.0236448, 0.5728934, 0.9578947, 0.357505, 0.1012582, 0.0123785, 0.7638889, 0.0972222, 0.0694444, 0.5357143, 0.1054007, 0.0209059, 0.9887372, 0.57219, 0.206489, 0.0764774, 0.0516802, 0.6888245, 0.0103682, 0.7975779, 0.0334487, 0.0265283, 0.0236448, 0.5728934, 0.9662921, 1, 0.4245902, 0.1132374, 0.1044852, 0.0732819, 0.4781833, 0.2113932, 0.1688573, 0.9342105, 0.4662577, 0.1533742, 0.0306748, 0.7611259, 0.0562952, 0.0251046, 0.5129464, 0.153363, 0.004666, 0.6708533, 0.0247655, 0.0098906, 0.9999998, 0.9572139, 0.5721913, 0.3084176, 0.837035, 0.0330372, 0.0277624, 0.950784, 0.2634201, 0.080087, 0.0313049, 0.683871, 0.0322581, 0.0129032, 0.6089233, 0.0446166, 0.0255263, 0.5728934, 0.5622076, 0.8055854, 0.0153061, 0.0099356, 0.8407767, 0.1203883, 0.7933754, 0.1340694, 0.4120066, 0.3962085, 0.0236967, 0.0189573, 0.9692516, 0.7436172, 0.0161615, 0.0078606, 0.827707, 0.0386466, 0.357505, 0.1012582, 0.0123785, 0.4559083, 0.0123457, 0.0123457, 0.4073581, 0.0289418, 0.0150666, 0.3859922, 0.2, 0.1206226, 0.8719238, 0.6124679, 0.0269923, 0.0160668, 0.4781833, 0.2113932, 0.1688573, 0.56, 0.36, 0.9887372, 0.8888889, 0.0483092, 0.8810021, 0.8791389, 0.7943313, 0.8810021, 0.9171598, 0.9042857, 0.2586541, 0.0486011, 0.0165666, 1, 0.4878534, 0.0702521, 0.8719238, 0.4781833, 0.2113932, 0.1688573, 0.357505, 0.1012582, 0.0123785, 0.5108696, 0.2608696, 0.0978261, 0.8833671, 0.9753632, 0.8249895, 0.0496424, 0.5728934, 0.8325359, 0.7275542, 0.0247678, 0.0154799, 0.4878534, 0.0702521, 0.6708533, 0.0247655, 0.0098906, 0.9518072, 0.9231626, 0.9887372, 0.4781833, 0.2113932, 0.1688573, 0.6708533, 0.0247655, 0.0098906, 0.6, 0.2, 0.2, 1, 0.893661, 0.0319247, 0.7490369, 0.017048, 0.0129633, 0.5171957, 0.4878534, 0.0702521, 0.6292135, 0.0224719, 0.011236, 0.9957815, 0.7830474, 0.0847629, 0.0660949, 0.8111111, 0.047619, 0.2634201, 0.080087, 0.0313049, 0.9887372, 0.8696158, 0.0337602, 0.8791389, 0.56, 0.36, 0.4878534, 0.0702521, 0.7252747, 0.0659341, 0.0549451, 0.021978, 0.5507069, 0.0307209, 0.0284517, 0.9047619, 0.743487, 0.0280561, 0.6994872, 0.0974359, 0.0153846, 0.8249895, 0.0496424, 0.5129464, 0.153363, 0.004666, 0.6847074, 0.0811831, 0.0641913, 0.0516048, 0.0446822, 0.4878534, 0.0702521, 0.2634201, 0.080087, 0.0313049, 0.9887372]], 'page': 'Spin_(physics)'}, {'qnum': 93140, 'sentences': [['<unk>', \"that's\", 'a', 'the', 'uh', 'little', 'town', 'in', 'and', 'you', 'which', 'things', 'thing', 'kept', 'cats', 'cat', 'me', 'quote', 'baloney', 'hard', 'heart', 'hardworking', 'before', 'for', 'you', 'youre', 'quote', 'go', 'going', 'oh', 'thing', 'things', 'anything', 'or', 'are', 'our', 'is', 'its', 'it', 'that', 'the', 'at', 'right', 'write', 'rights', 'well', 'you', 'youre', 'quote', 'still', 'dont', 'theyll', 'love', 'loving', 'loves', 'me', 'quote', 'baloney', 'when', 'went', 'one', 'i', 'first', 'one', 'got', 'god', 'that', 'nothing', 'but', 'that', 'with', 'my', 'captain', '<unk>', 'in', 'and', 'you', 'another', 'other', 'i', 'um', 'here', 'humid', 'towns', 'and', 'in', 'another', 'other', 'i', 'song', 'um', 'strong', 'invite', 'soprano', 'for', 'fact', 'you', 'youre', 'quote', 'to', 'too', 'come', 'coming', 'comes', 'and', 'in', 'take', 'a', 'the', 'uh', 'walk', 'walked', 'walking', 'work', 'on', 'and', 'in', 'the', 'a', 'that', 'wild', 'while', 'side', 'sided', 'right', 'and', 'in', 'things', 'thing', 'the', 'a', 'that', 'road', 'own', 'roads', 'as', 'is', 'and', 'long', 'along', 'lung', 'we', 'you', 'were', 'carry', 'kerry', 'on', 'and', 'in', 'trying', 'to', 'too', 'have', 'has', 'had', 'fun', 'find', 'funding', 'in', 'and', 'you', 'the', 'a', 'that', 'meantime', '<unk>', '<unk>', 'this', 'the', 'it', 'american', 'there', 'theyre', 'theres', 'their', 'i', 'first', 'one', 'was', 'with', 'would', 'born', 'boring', 'foreign', 'to', 'too', 'die', 'died', 'diet', 'young', 'beautiful', 'and', 'in', 'summertime', 'time', 'you', 'motorcycle', 'summer', 'sadness', 'that', 'stagnant', 'bad', 'open', 'opened', '<unk>', \"i've\", 'been', 'out', 'at', 'that', 'on', 'and', 'in', 'the', 'a', 'that', 'open', 'opened', 'road', 'own', 'roads', 'before', 'for', 'describing', 'how', 'described', 'describe', '<unk>', 'the', 'a', 'that', 'birds', 'bird', 'birth', 'on', 'and', 'in', 'this', 'the', 'it', 'summer', 'im', 'or', 'breed', 'breathe', 'breathing', 'singer', 'thing', 'or', 'senior', 'instructions', 'instruction', 'put', 'but', 'me', 'quote', 'baloney', 'on', 'and', 'in', 'to', 'too', 'your', 'youre', 'you', 'their', 'black', 'like', 'blackout', 'motorcycle', 'and', 'in', 'to', 'too', 'let', 'lets', 'that', 'me', 'quote', 'baloney', 'put', 'but', 'it', 'its', 'that', 'on', 'and', 'in', 'the', 'a', 'that', 'show', 'so', 'joe', 'for', 'pretend', 'ten', 'you', 'youre', 'quote', '<unk>', 'yeah', 'boo', '<unk>', 'go', 'going', 'oh', 'go', 'going', 'oh', 'go', 'going', 'oh', 'go', 'going', 'oh', 'go', 'going', 'oh', 'my', 'captain', 'show', 'so', 'joe', 'and', 'in', 'it', 'its', 'that', '<unk>', 'latest', 'later', 'late', 'album', 'albums', 'here', 'hear']], 'confidences': [[0.9998903, 0.9985632, 0.357505, 0.1012582, 0.0123785, 0.9430199, 0.8556244, 0.5129464, 0.153363, 0.004666, 0.8221473, 0.7097449, 0.1129235, 0.6732673, 0.0257426, 0.0217822, 0.785674, 0.0225606, 0.0078962, 0.7488889, 0.0488889, 0.0088889, 0.8467145, 0.0766988, 0.8055854, 0.0153061, 0.0099356, 0.8001249, 0.014366, 0.0087445, 0.7716186, 0.0199557, 0.0099778, 0.4073581, 0.0289418, 0.0150666, 0.2586541, 0.0486011, 0.0165666, 0.6012118, 0.0130218, 0.0089698, 0.8292753, 0.0214838, 0.0183329, 0.933132, 0.8055854, 0.0153061, 0.0099356, 0.6349091, 0.0174545, 0.0101818, 0.8016049, 0.0261226, 0.0196346, 0.785674, 0.0225606, 0.0078962, 0.6069835, 0.0299209, 0.0271846, 0.4627304, 0.1504871, 0.0995422, 0.6633554, 0.0353201, 0.0143488, 0.9637681, 0.6436554, 0.0145155, 0.0062014, 0.8508475, 0.0105085, 0.9999878, 0.5129464, 0.153363, 0.004666, 0.84484, 0.04816, 0.02984, 0.3181818, 0.1363636, 0.1363636, 0.0909091, 0.4878534, 0.0702521, 0.84484, 0.04816, 0.02984, 0.3337769, 0.1024754, 0.0527016, 0.8235294, 0.0294118, 0.0294118, 0.0294118, 0.8055854, 0.0153061, 0.0099356, 0.6730136, 0.0107746, 0.7481021, 0.0193237, 0.0186335, 0.4878534, 0.0702521, 0.8848854, 0.357505, 0.1012582, 0.0123785, 0.6587156, 0.0422018, 0.0348624, 0.0330275, 0.6994426, 0.0369743, 0.0108489, 0.6708533, 0.0247655, 0.0098906, 0.7548501, 0.0687831, 0.5653645, 0.0682867, 0.0359889, 0.4878534, 0.0702521, 0.7097449, 0.1129235, 0.6708533, 0.0247655, 0.0098906, 0.7568757, 0.0319032, 0.0319032, 0.2571122, 0.0366992, 0.0288258, 0.7437904, 0.1003743, 0.0180333, 0.7506812, 0.0263397, 0.0217984, 0.743487, 0.0280561, 0.6994426, 0.0369743, 0.0108489, 0.9301587, 0.6730136, 0.0107746, 0.6790425, 0.0349593, 0.0158988, 0.8059701, 0.0373134, 0.0298507, 0.5129464, 0.153363, 0.004666, 0.6708533, 0.0247655, 0.0098906, 0.9375, 0.9999977, 0.9999999, 0.2634201, 0.080087, 0.0313049, 0.9645338, 0.4991703, 0.1062064, 0.0955858, 0.0444739, 0.4627304, 0.1504871, 0.0995422, 0.5561267, 0.1134377, 0.0124002, 0.6605184, 0.0518445, 0.0403789, 0.6730136, 0.0107746, 0.6702568, 0.0571665, 0.029826, 0.8965795, 0.9719888, 0.4878534, 0.0702521, 0.7894737, 0.0526316, 0.0263158, 0.0263158, 0.0263158, 0.630137, 0.0547945, 0.0410959, 0.0410959, 0.8409273, 0.0223821, 0.9997929, 0.9999951, 0.9103961, 0.7704424, 0.0136282, 0.0118409, 0.6994426, 0.0369743, 0.0108489, 0.6708533, 0.0247655, 0.0098906, 0.8409273, 0.0223821, 0.7568757, 0.0319032, 0.0319032, 0.8467145, 0.0766988, 0.9581851, 0.5622212, 0.0314451, 0.0115968, 0.5895383, 0.6708533, 0.0247655, 0.0098906, 0.6626667, 0.0853333, 0.0093333, 0.6994426, 0.0369743, 0.0108489, 0.2634201, 0.080087, 0.0313049, 0.7363344, 0.022508, 0.0192926, 0.5689655, 0.1034483, 0.0517241, 0.2929293, 0.1930415, 0.1560045, 0.0673401, 0.7951807, 0.1686747, 0.8224617, 0.0170164, 0.785674, 0.0225606, 0.0078962, 0.6994426, 0.0369743, 0.0108489, 0.6730136, 0.0107746, 0.6891074, 0.0506808, 0.0121029, 0.0113464, 0.7412027, 0.0160356, 0.0109131, 0.9642857, 0.4878534, 0.0702521, 0.6730136, 0.0107746, 0.6282209, 0.0220859, 0.0159509, 0.785674, 0.0225606, 0.0078962, 0.8224617, 0.0170164, 0.521673, 0.0287124, 0.0179838, 0.6994426, 0.0369743, 0.0108489, 0.6708533, 0.0247655, 0.0098906, 0.6977099, 0.0722646, 0.0279898, 0.4781833, 0.2113932, 0.1688573, 0.8055854, 0.0153061, 0.0099356, 0.9999933, 0.8333333, 0.0833333, 0.9999916, 0.8001249, 0.014366, 0.0087445, 0.8001249, 0.014366, 0.0087445, 0.8001249, 0.014366, 0.0087445, 0.8001249, 0.014366, 0.0087445, 0.8001249, 0.014366, 0.0087445, 0.8508475, 0.0105085, 0.6977099, 0.0722646, 0.0279898, 0.4878534, 0.0702521, 0.521673, 0.0287124, 0.0179838, 0.9959389, 0.8333333, 0.0384615, 0.025641, 0.8296296, 0.073251, 0.8573243, 0.0118544]], 'page': 'Lana_Del_Rey'}, {'qnum': 93143, 'sentences': [['painting', 'by', 'buy', 'this', 'the', 'it', 'artist', 'artists', 'started', 'at', 'that', 'it', 'three', '<unk>', 'shows', 'show', 'showed', 'chosen', 'a', 'the', 'uh', 'hand', 'hands', 'handed', 'emerging', 'merging', 'out', 'at', 'that', 'of', 'the', 'a', 'that', 'smoke', 'smoking', 'smoked', 'to', 'too', 'show', 'so', 'joe', 'golden', 'building', 'hebrew', 'letters', 'eliminating', 'illuminating', 'on', 'and', 'in', 'the', 'a', 'that', 'wall', 'while', 'wow', 'large', 'textbook', 'text', 'textbooks', 'book', 'books', 'propped', 'prompt', 'probably', 'open', 'opened', 'in', 'and', 'you', 'the', 'a', 'that', 'corner', 'corners', 'quarter', 'of', 'painting', 'man', 'men', 'in', 'and', 'you', 'the', 'a', 'that', '<unk>', '<unk>', 'being', 'studied', 'study', 'studying', 'by', 'buy', '<unk>', 'ten', 'pretend', 'point', 'points', 'pointed', 'named', 'name', 'names', 'this', 'the', 'it', '<unk>', 'feast', 'feet', 'fee', 'be', 'maybe', 'anatomy', 'me', 'pointed', 'eleven', 'and', 'in', 'a', 'the', 'uh', 'massive', 'masters', 'masses', 'night', 'tonight', 'right', 'watch', 'watching', 'watched', 'processing', 'thing', 'practicing', 'process', 'one', 'through', 'throughout', 'three', 'four', 'for', 'foreign', 'stages', 'ages', 'stage', 'pages', 'artist', 'artists', 'started', 'art', 'created', 'a', 'the', 'uh', 'curtailing', 'of', 'life', 'that', 'the', 'at', 'eliminates', 'eliminate', 'the', 'a', 'that', 'good', 'night', '<unk>', 'cats', 'cat', 'the', 'a', 'that', 'bad', 'that', 'seeds', 'needs', 'seat', 'and', 'in', '<unk>', \"that's\", 'part', 'of', 'one', 'of', 'his', 'hes', 'the', 'best', 'known', 'thats', 'no', 'known', 'no', 'notice', 'drive', 'drives', 'driving', 'point', 'points', 'pointed', 'included', '<unk>', 'player', 'players', 'in', 'and', 'you', 'the', 'a', 'that', 'background', 'of', 'title', 'figure', 'figures', 'figuring', 'out', \"where's\", 'the', 'a', 'that', 'twelve', 'pointed', 'appointed', 'black', 'like', 'blackout', 'hebrew', 'on', 'and', 'in', 'his', 'hes', 'the', 'golden', 'building', '<unk>', 'had', 'has', 'have', 'the', 'a', 'that', 'crown', 'crowd', 'ground', 'above', 'about', 'his', 'hes', 'the', 'turban', 'turbans', 'knocked', 'not', 'over', 'of', 'a', 'the', 'uh', 'challenge', 'challenged', 'in', 'and', 'you', 'shock', 'shocked', 'shocking']], 'confidences': [[0.9034872, 0.6888245, 0.0103682, 0.2634201, 0.080087, 0.0313049, 0.362405, 0.1955732, 0.0700363, 0.3309875, 0.0554312, 0.0273043, 0.8951679, 0.9235709, 0.6096131, 0.1375537, 0.0582259, 0.0289175, 0.357505, 0.1012582, 0.0123785, 0.7782999, 0.0495515, 0.0324648, 0.8442623, 0.1065574, 0.7704424, 0.0136282, 0.0118409, 0.5728934, 0.6708533, 0.0247655, 0.0098906, 0.5947137, 0.1057269, 0.0264317, 0.6730136, 0.0107746, 0.6977099, 0.0722646, 0.0279898, 0.8374506, 0.0192688, 0.7464789, 0.8015195, 0.5, 0.2727273, 0.6994426, 0.0369743, 0.0108489, 0.6708533, 0.0247655, 0.0098906, 0.4864446, 0.0518978, 0.0263362, 0.91939, 0.4496644, 0.1677852, 0.1208054, 0.114094, 0.0671141, 0.6, 0.1, 0.05, 0.8409273, 0.0223821, 0.5129464, 0.153363, 0.004666, 0.6708533, 0.0247655, 0.0098906, 0.8680412, 0.0268041, 0.0247423, 0.5728934, 0.9034872, 0.8156874, 0.0369694, 0.5129464, 0.153363, 0.004666, 0.6708533, 0.0247655, 0.0098906, 1, 0.9999253, 0.9329296, 0.574187, 0.2520325, 0.0680894, 0.6888245, 0.0103682, 1, 0.5721913, 0.3084176, 0.837035, 0.0330372, 0.0277624, 0.640407, 0.1604825, 0.1113142, 0.2634201, 0.080087, 0.0313049, 0.9748658, 0.1985816, 0.1010638, 0.0248227, 0.827707, 0.0386466, 0.637931, 0.0172414, 0.0086207, 0.9093851, 0.4878534, 0.0702521, 0.357505, 0.1012582, 0.0123785, 0.7203742, 0.0218295, 0.0135135, 0.7119067, 0.0420483, 0.011657, 0.6887967, 0.1058091, 0.060166, 0.4697987, 0.0805369, 0.0738255, 0.0738255, 0.8719238, 0.7185206, 0.0321852, 0.0232919, 0.3444357, 0.3258229, 0.0460423, 0.6781327, 0.1007371, 0.041769, 0.036855, 0.1902655, 0.1819076, 0.1553589, 0.0388397, 0.9437577, 0.357505, 0.1012582, 0.0123785, 0.75, 0.5728934, 0.8744121, 0.6012118, 0.0130218, 0.0089698, 0.75, 0.15625, 0.6708533, 0.0247655, 0.0098906, 0.8483497, 0.0115968, 0.9645151, 0.6439024, 0.2634146, 0.6708533, 0.0247655, 0.0098906, 0.6969206, 0.0988655, 0.1497326, 0.0962567, 0.0374332, 0.4878534, 0.0702521, 0.9988632, 0.9925995, 0.8918133, 0.5728934, 0.8719238, 0.5728934, 0.6050743, 0.0250086, 0.0134684, 0.2645822, 0.2422491, 0.0761955, 0.0541251, 0.6753937, 0.0746383, 0.0169633, 0.8263305, 0.0504202, 0.0448179, 0.837035, 0.0330372, 0.0277624, 0.9134855, 1, 0.7183272, 0.1217712, 0.5129464, 0.153363, 0.004666, 0.6708533, 0.0247655, 0.0098906, 0.9837746, 0.5728934, 0.9393464, 0.7114746, 0.1041692, 0.0391096, 0.0305006, 0.9113954, 0.6708533, 0.0247655, 0.0098906, 0.9179775, 0.769697, 0.0969697, 0.7412027, 0.0160356, 0.0109131, 0.5, 0.6994426, 0.0369743, 0.0108489, 0.6050743, 0.0250086, 0.0134684, 0.8374506, 0.0192688, 0.9988739, 0.7615092, 0.0327825, 0.0158169, 0.6708533, 0.0247655, 0.0098906, 0.4434783, 0.1321739, 0.0313043, 0.8281037, 0.0436562, 0.6050743, 0.0250086, 0.0134684, 0.8803419, 0.034188, 0.7391304, 0.1014493, 0.831724, 0.0143433, 0.357505, 0.1012582, 0.0123785, 0.7877358, 0.1132075, 0.5129464, 0.153363, 0.004666, 0.7047619, 0.0571429, 0.0571429]], 'page': 'Rembrandt'}]\n"
     ]
    }
   ],
   "source": [
    "for question in data['questions']:\n",
    "    sentences = sum((question['sentences']), [])\n",
    "    confidences = sum((question['confidences']), [])\n",
    "    question['sentences'] = [sentences]\n",
    "    question['confidences'] = [confidences]\n",
    "\n",
    "print (data['questions'][:5])"
   ]
  },
  {
   "cell_type": "code",
   "execution_count": 14,
   "metadata": {
    "collapsed": false
   },
   "outputs": [
    {
     "name": "stdout",
     "output_type": "stream",
     "text": [
      "Writing out file of length  1054\n"
     ]
    }
   ],
   "source": [
    "print (\"Writing out file of length \", len(data['questions']))\n",
    "with open(f'/fs/clip-quiz/dpeskov/data/asr_qanta.dev_expanded_joined.2018.04.18.json', 'w') as fp:\n",
    "    json.dump({\"questions\":data['questions']}, fp)"
   ]
  }
 ],
 "metadata": {
  "kernelspec": {
   "display_name": "Python 3",
   "language": "python",
   "name": "python3"
  },
  "language_info": {
   "codemirror_mode": {
    "name": "ipython",
    "version": 3
   },
   "file_extension": ".py",
   "mimetype": "text/x-python",
   "name": "python",
   "nbconvert_exporter": "python",
   "pygments_lexer": "ipython3",
   "version": "3.6.3"
  }
 },
 "nbformat": 4,
 "nbformat_minor": 2
}
