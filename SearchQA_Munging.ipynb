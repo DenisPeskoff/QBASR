{
 "cells": [
  {
   "cell_type": "code",
   "execution_count": 17,
   "metadata": {
    "collapsed": true
   },
   "outputs": [],
   "source": [
    "import pandas as pd\n",
    "import glob\n",
    "import json"
   ]
  },
  {
   "cell_type": "code",
   "execution_count": 18,
   "metadata": {
    "collapsed": false
   },
   "outputs": [],
   "source": [
    "#rename val so it occurs before test.  Label qnums in increasing order throughout whole dataset\n",
    "qnum = 0\n",
    "for split in glob.glob('SearchQA/*.txt'):\n",
    "    with open(split) as f:\n",
    "        data = f.readlines()\n",
    "        \n",
    "    df = pd.DataFrame()\n",
    "    q_list, a_list = [], []\n",
    "    for row in data:\n",
    "        question = row.split('|||')[1].strip()\n",
    "        answer = row.split('|||')[2].strip()\n",
    "        q_list.append(question)\n",
    "        a_list.append(answer)\n",
    "    final = pd.concat([pd.DataFrame(q_list), pd.DataFrame(a_list)], axis=1)\n",
    "    final.columns=['q','a']\n",
    "    data = []\n",
    "    for i in final.iterrows():\n",
    "        answer = i[1]['a']\n",
    "        question = i[1]['q']\n",
    "        category = \"NONE\"\n",
    "        bundle = {\"qnum\":qnum, \"answer\":answer,\"question\":question,\"category\":category}\n",
    "        data.append(bundle)\n",
    "        qnum = qnum+1\n",
    "    with open(split + '.json', 'w') as f:\n",
    "        json.dump({\"questions\":data}, f)"
   ]
  }
 ],
 "metadata": {
  "kernelspec": {
   "display_name": "Python 3",
   "language": "python",
   "name": "python3"
  },
  "language_info": {
   "codemirror_mode": {
    "name": "ipython",
    "version": 3
   },
   "file_extension": ".py",
   "mimetype": "text/x-python",
   "name": "python",
   "nbconvert_exporter": "python",
   "pygments_lexer": "ipython3",
   "version": "3.6.3"
  }
 },
 "nbformat": 4,
 "nbformat_minor": 2
}
