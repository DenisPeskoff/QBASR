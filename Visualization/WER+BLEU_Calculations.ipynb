{
 "cells": [
  {
   "cell_type": "markdown",
   "metadata": {},
   "source": [
    "# WER & BLEU Calculation Notebook\n",
    "The following calculates and plots BLEU/WER data"
   ]
  },
  {
   "cell_type": "code",
   "execution_count": 1,
   "metadata": {},
   "outputs": [],
   "source": [
    "import nltk\n",
    "from nltk.tokenize.punkt import PunktSentenceTokenizer\n",
    "tokenizer = nltk.tokenize.punkt.PunktSentenceTokenizer()\n",
    "import string\n",
    "import json\n",
    "from jiwer import wer\n",
    "#matploblib imports used below when needed"
   ]
  },
  {
   "cell_type": "markdown",
   "metadata": {},
   "source": [
    "## WER"
   ]
  },
  {
   "cell_type": "markdown",
   "metadata": {},
   "source": [
    "## Open Data (ADJUST TO PROPER PATHS!)"
   ]
  },
  {
   "cell_type": "code",
   "execution_count": 2,
   "metadata": {},
   "outputs": [],
   "source": [
    "#asr'd data\n",
    "with open('QBASR/asr_qanta.test.2018.04.18.json') as asr:\n",
    "    asr_data = json.load(asr)['questions']\n",
    "\n",
    "#original qanta data\n",
    "with open('QBASR/qanta.test.2018.04.18.json') as clean:\n",
    "    clean_data = json.load(clean)['questions'] "
   ]
  },
  {
   "cell_type": "code",
   "execution_count": 3,
   "metadata": {},
   "outputs": [
    {
     "name": "stdout",
     "output_type": "stream",
     "text": [
      "2151\n"
     ]
    }
   ],
   "source": [
    "sentences =  [item['sentences'] for item in asr_data]\n",
    "cleaned_p = []\n",
    "#cleaned_s = []\n",
    "for q in sentences:\n",
    "    cleaned = []\n",
    "    for sentence in q:\n",
    "        joined = ' '.join(sentence)\n",
    "        joined = joined.replace(\"'\", \"\")\n",
    "        cleaned.append(joined)\n",
    "        #cleaned_s.append(joined)\n",
    "    paragraph = ' '.join(cleaned)\n",
    "    cleaned_p.append(paragraph)     \n",
    "print(len(cleaned_p))"
   ]
  },
  {
   "cell_type": "code",
   "execution_count": 4,
   "metadata": {},
   "outputs": [
    {
     "name": "stdout",
     "output_type": "stream",
     "text": [
      "2151\n"
     ]
    }
   ],
   "source": [
    "orig_p = []\n",
    "#orig_s = []    \n",
    "for q in clean_data:\n",
    "    orig = []\n",
    "    if q['fold'] == 'guesstest':\n",
    "        for sent in q['tokenizations']:\n",
    "                sentence = q['text'][sent[0]:sent[1]]\n",
    "                sentence = sentence.translate(str.maketrans('', '', string.punctuation))\n",
    "                orig.append(sentence.lower())\n",
    "                #also store in sentence level comparison.  Not used though\n",
    "                #orig_s.append(sentence.lower())\n",
    "        orig_paragraph = ' '.join(orig)\n",
    "        orig_p.append(orig_paragraph)\n",
    "        \n",
    "print(len(orig_p))"
   ]
  },
  {
   "cell_type": "code",
   "execution_count": 5,
   "metadata": {},
   "outputs": [
    {
     "name": "stdout",
     "output_type": "stream",
     "text": [
      "['the lines rude and ungrateful though my country be in book 5 of this work alludes to scipio africanus as a reference to its authors multiple exiles the main characters of this work encounter a figure whose black lips part to reveal blue rows of gnashing teeth  its central character is brought to a mountaintop and listens to a set of speeches by the nereid thetis after arriving at the isle of joy this work concludes with an apostrophe to the king of a nation whose history is recounted to the king of melinda in the third fourth and fifth books of this work a character in this work who used to rule over the indian ocean first appears as a storm and guards the cape of good hope bacchus and venus feud over a group of sailors in this work who are impeded by the monster adamastor for 10 points name this portuguese epic by luis de camões kamoish chronicling the voyages of vasco da gama']\n",
      "\n",
      "\n",
      "['the lines rude and im grateful that my country <unk> book five <unk> dip you african inside the reference authors multiple exile the main characters ive been working <unk> figure whos <unk> its hard to reveal blue road nationality mhm its central character is to a mountain top and listen to instead of speeches by the <unk> feed us after arriving at the <unk> of joy this war conclude apostrophe to the <unk> who history is <unk> king of melinda and the third fourth and fifth book work a character work who used to rule over the indian ocean first appeared dormant guards <unk> <unk> and venus <unk> for a group of allergies in this world who are infuriated by the monster at a master for ten points <unk> portuguese <unk> <unk> <unk> the voyagers <unk>']\n"
     ]
    }
   ],
   "source": [
    "#sanity check\n",
    "print (orig_p[:1])\n",
    "print('\\n')\n",
    "print(cleaned_p[:1])"
   ]
  },
  {
   "cell_type": "markdown",
   "metadata": {},
   "source": [
    "### Calculation for paper.  What is WER on our test data?  \n",
    "Calculated at question level.  Compared to a sample of 1k by sentence level and WER were within 5%.  Question level seems to make most sense, since short sentences get same weight as long sentences otherwise"
   ]
  },
  {
   "cell_type": "code",
   "execution_count": 6,
   "metadata": {},
   "outputs": [
    {
     "data": {
      "text/plain": [
       "0.5176269582860278"
      ]
     },
     "execution_count": 6,
     "metadata": {},
     "output_type": "execute_result"
    }
   ],
   "source": [
    "wers = []\n",
    "for index, q in enumerate(cleaned_p):\n",
    "    calc = wer(orig_p[index], cleaned_p[index])\n",
    "    #should not be exteremes.  If so potential misalignment\n",
    "    if (calc > .8 or calc < .2):\n",
    "        print(orig_p[index][:100], cleaned_p[index][:100])\n",
    "    wers.append(calc)\n",
    "sum(wers)/len(wers)"
   ]
  },
  {
   "cell_type": "markdown",
   "metadata": {},
   "source": [
    "### Figures for Appendix looking at WER of Multi Speaker"
   ]
  },
  {
   "cell_type": "code",
   "execution_count": 7,
   "metadata": {},
   "outputs": [
    {
     "name": "stdout",
     "output_type": "stream",
     "text": [
      "1\n",
      "2\n",
      "3\n",
      "4\n",
      "5\n"
     ]
    }
   ],
   "source": [
    "with open(f'/Users/dpeskov/Documents/PhD/QBASR_Files/HumanData_Original.json') as fp:\n",
    "    data = json.load(fp)\n",
    "        \n",
    "    questions = data['questions']\n",
    "\n",
    "    guesser_data = []\n",
    "    for question in data['questions']:\n",
    "        # extract all the relevant questions for given fold\n",
    "        if question['fold'] == 'guesstrain':\n",
    "            guesser_data.append([question['text'],  question['tokenizations'], question['page'], question['qanta_id']])\n",
    "\n",
    "original_data = []\n",
    "for i in range(5):\n",
    "    print(guesser_data[i][3])\n",
    "    tokens = guesser_data[i][1]\n",
    "    single_question = []\n",
    "    for token in tokens:\n",
    "        single_question.append(guesser_data[i][0][token[0]:token[1]].lower().translate(str.maketrans('', '', string.punctuation)))\n",
    "    original_data.append(single_question)"
   ]
  },
  {
   "cell_type": "code",
   "execution_count": 8,
   "metadata": {},
   "outputs": [
    {
     "name": "stdout",
     "output_type": "stream",
     "text": [
      "0\n",
      "0.46726190476190477\n",
      "0.4745859213250518\n",
      "0.4430900001981238\n",
      "0.494058898945734\n",
      "0.5069687308781989\n",
      "1\n",
      "0.6339285714285714\n",
      "0.6150569358178053\n",
      "0.5295509772454852\n",
      "0.5795424873324616\n",
      "0.57443985067183\n",
      "2\n",
      "0.6651785714285714\n",
      "0.6081042960662526\n",
      "0.5853497751295235\n",
      "0.5934993989729759\n",
      "0.6115837875415965\n",
      "3\n",
      "0.6770833333333334\n",
      "0.644933143547274\n",
      "0.6115363053549553\n",
      "0.6037645432648651\n",
      "0.6031292363084411\n",
      "4\n",
      "0.7127976190476191\n",
      "0.6365584023464458\n",
      "0.5969228572088984\n",
      "0.6185689881406413\n",
      "0.6108760117964922\n",
      "5\n",
      "0.6622023809523809\n",
      "0.7111184437543132\n",
      "0.7099103035916536\n",
      "0.7346407146716427\n",
      "0.7439685964143915\n",
      "6\n",
      "0.605654761904762\n",
      "0.5664954278812975\n",
      "0.5260816030524269\n",
      "0.5526037211461625\n",
      "0.555934914453078\n",
      "7\n",
      "0.4270833333333333\n",
      "0.46536620082815733\n",
      "0.4490940790711958\n",
      "0.45160932221859\n",
      "0.46536495922079457\n",
      "8\n",
      "0.5729166666666666\n",
      "0.6082561249137336\n",
      "0.5905439281669259\n",
      "0.5912668077576186\n",
      "0.5979411500811672\n",
      "9\n",
      "0.42708333333333326\n",
      "0.38852786404416834\n",
      "0.3633073460991081\n",
      "0.3813214194907559\n",
      "0.4049896592093389\n"
     ]
    }
   ],
   "source": [
    "all_speaker_wer = []\n",
    "for i in range(0, 10):\n",
    "    print (i)\n",
    "    single_speaker_wer = []\n",
    "    \n",
    "    with open(f'/Users/dpeskov/Downloads/HumanData/Speaker{i}.json') as fp:\n",
    "        data = json.load(fp)\n",
    "        #human_data, single_speaker_bleu = [], []\n",
    "        for index, sentences in enumerate(data['questions']):\n",
    "            for sent_index, question in enumerate(sentences['sentences']):\n",
    "                sent_wer = wer(original_data[index][sent_index], ' '.join(question))\n",
    "                #print(original_data[index][sent_index])\n",
    "                #print(' '.join(question))\n",
    "                single_speaker_wer.append(sent_wer)\n",
    "            print(sum(single_speaker_wer)/len(single_speaker_wer))\n",
    "        all_speaker_wer.append(single_speaker_wer)"
   ]
  },
  {
   "cell_type": "code",
   "execution_count": 9,
   "metadata": {},
   "outputs": [],
   "source": [
    "#run above code on range 999,1000 (file is speaker999)\n",
    "\n",
    "with open(f'/Users/dpeskov/Downloads/HumanData/Speaker999.json') as fp:\n",
    "    tts_wer = []\n",
    "    data = json.load(fp)\n",
    "    #human_data, single_speaker_bleu = [], []\n",
    "    for index, sentences in enumerate(data['questions']):\n",
    "        for sent_index, question in enumerate(sentences['sentences']):\n",
    "            sent_wer = wer(original_data[index][sent_index], ' '.join(question))\n",
    "            #print(original_data[index][sent_index])\n",
    "            #print(' '.join(question))\n",
    "            tts_wer.append(sent_wer)\n",
    "#tts_wer"
   ]
  },
  {
   "cell_type": "code",
   "execution_count": 13,
   "metadata": {},
   "outputs": [
    {
     "data": {
      "image/png": "[encoded data removed]",
      "text/plain": [
       "<matplotlib.figure.Figure at 0x1a111c2e80>"
      ]
     },
     "metadata": {},
     "output_type": "display_data"
    }
   ],
   "source": [
    "import matplotlib\n",
    "matplotlib.rcParams.update({'font.size': 30})\n",
    "import matplotlib.pyplot as plt\n",
    "x = [x for x in range(1, 4)]\n",
    "plt.figure(figsize=(20,10))\n",
    "\n",
    "#line2 = plt.hist(tts)\n",
    "#plt.legend((line1, line2), (\"Human\", \"TTS\"))\n",
    "plt.hist(tts_wer, bins=[x/5 for x in range(0,5)], histtype = \"stepfilled\", color = '.8')\n",
    "plt.hist(all_speaker_wer, bins=[x/5 for x in range(0,5)])\n",
    "plt.legend(['ASR']+[x for x in range(10)])\n",
    "\n",
    "plt.title(\"Human WER Scores\")\n",
    "plt.xlabel(\"Normalized WER Score\")\n",
    "plt.ylabel(\"Frequency, by Speaker\")\n",
    "\n",
    "plt.show()\n",
    "#plt.hist(tts)\n",
    "#plt.show()"
   ]
  },
  {
   "cell_type": "markdown",
   "metadata": {},
   "source": [
    "## BLEU"
   ]
  },
  {
   "cell_type": "code",
   "execution_count": 14,
   "metadata": {},
   "outputs": [],
   "source": [
    "def bleu_comparison(original, human):\n",
    "    #print(human.lower().split())\n",
    "    #print(original.lower().split())\n",
    "    human_bleu = nltk.translate.bleu_score.sentence_bleu( [human.lower().split()], original.lower().split())\n",
    "    return human_bleu"
   ]
  },
  {
   "cell_type": "code",
   "execution_count": 15,
   "metadata": {},
   "outputs": [
    {
     "name": "stdout",
     "output_type": "stream",
     "text": [
      "0\n",
      "0.27236094460237054\n",
      "0.26681763569569455\n",
      "0.3119086418883985\n",
      "0.32117908869619827\n",
      "0.30999749655462244\n",
      "1\n",
      "0.22209019562737467\n",
      "0.2196429793484044\n",
      "0.290327941558296\n",
      "0.30662646062294463\n",
      "0.2841350096932035\n",
      "2\n",
      "0.2059538744304369\n",
      "0.21298064579654805\n",
      "0.21612779443828478\n",
      "0.2355025708882099\n",
      "0.2637191029840518\n",
      "3\n",
      "0.22595379033384694\n",
      "0.22286945739270494\n",
      "0.2375125107400585\n",
      "0.26614014991146084\n",
      "0.25833811828770104\n",
      "4\n",
      "0.26418628545558165\n",
      "0.2471402116964287\n",
      "0.26699983115873577\n",
      "0.25695782605748074\n",
      "0.2566142941999476\n",
      "5\n",
      "0.17146766019712129\n",
      "0.17450688075012658\n",
      "0.18554215914392574\n",
      "0.20213702616713478\n",
      "['<unk>', 'to', 'both', '<unk>'] this object appears between two boats tossing in a furious storm in the painting the great wave off kanagawa\n",
      "0.1926573632595125\n",
      "6\n",
      "0.20543572028270757\n",
      "0.2224149149546902\n",
      "0.2620405706787659\n",
      "0.2995318422225802\n",
      "0.28689212031318645\n",
      "7\n",
      "0.29419228838826983\n",
      "0.27529604970018234\n",
      "0.3021994058408859\n",
      "0.3111769928493279\n",
      "0.31179024925454285\n",
      "8\n",
      "0.261487208161831\n",
      "0.23365524011086425\n",
      "0.2503533146407271\n",
      "0.2586506313239478\n",
      "0.26319658050983563\n",
      "9\n",
      "0.33668560824387905\n",
      "0.3722454107846761\n",
      "0.40380279659965196\n",
      "0.3652154212210573\n",
      "0.3450216596293953\n"
     ]
    },
    {
     "name": "stderr",
     "output_type": "stream",
     "text": [
      "/Users/dpeskov/anaconda3/envs/ASR/lib/python3.6/site-packages/nltk/translate/bleu_score.py:490: UserWarning: \n",
      "Corpus/Sentence contains 0 counts of 3-gram overlaps.\n",
      "BLEU scores might be undesirable; use SmoothingFunction().\n",
      "  warnings.warn(_msg)\n",
      "/Users/dpeskov/anaconda3/envs/ASR/lib/python3.6/site-packages/nltk/translate/bleu_score.py:490: UserWarning: \n",
      "Corpus/Sentence contains 0 counts of 2-gram overlaps.\n",
      "BLEU scores might be undesirable; use SmoothingFunction().\n",
      "  warnings.warn(_msg)\n",
      "/Users/dpeskov/anaconda3/envs/ASR/lib/python3.6/site-packages/nltk/translate/bleu_score.py:490: UserWarning: \n",
      "Corpus/Sentence contains 0 counts of 4-gram overlaps.\n",
      "BLEU scores might be undesirable; use SmoothingFunction().\n",
      "  warnings.warn(_msg)\n"
     ]
    }
   ],
   "source": [
    "all_speaker = []\n",
    "for i in range(10):\n",
    "    print (i)\n",
    "    with open(f'/Users/dpeskov/Downloads/HumanData/Speaker{i}.json') as fp:\n",
    "        data = json.load(fp)\n",
    "    \n",
    "        questions = data['questions']\n",
    "\n",
    "        human_data, single_speaker_bleu = [], []\n",
    "        for index, sentences in enumerate(data['questions']):\n",
    "            for sent_index, question in enumerate(sentences['sentences']):\n",
    "                bleu = bleu_comparison(' '.join(question), original_data[index][sent_index])\n",
    "                if bleu == 0:\n",
    "                    print (question, original_data[index][sent_index])\n",
    "                single_speaker_bleu.append(bleu)\n",
    "            print(sum(single_speaker_bleu)/len(single_speaker_bleu))\n",
    "        all_speaker.append(single_speaker_bleu)\n",
    "            #bleu_comparison(question, )\n",
    "            #print(' '.join(question['sentences'][0]))\n",
    "            # extract all the relevant questions for given fold\n",
    "            #if question['fold'] == 'guesstrain':\n",
    "            #    human_data.append([question['text'],  question["
   ]
  },
  {
   "cell_type": "code",
   "execution_count": 16,
   "metadata": {},
   "outputs": [
    {
     "name": "stdout",
     "output_type": "stream",
     "text": [
      "0.3539887712969183\n",
      "0.37936780287241806\n",
      "0.3716703419205578\n",
      "0.35543882346693934\n",
      "0.34078399326466297\n"
     ]
    },
    {
     "name": "stderr",
     "output_type": "stream",
     "text": [
      "/Users/dpeskov/anaconda3/envs/ASR/lib/python3.6/site-packages/nltk/translate/bleu_score.py:490: UserWarning: \n",
      "Corpus/Sentence contains 0 counts of 3-gram overlaps.\n",
      "BLEU scores might be undesirable; use SmoothingFunction().\n",
      "  warnings.warn(_msg)\n",
      "/Users/dpeskov/anaconda3/envs/ASR/lib/python3.6/site-packages/nltk/translate/bleu_score.py:490: UserWarning: \n",
      "Corpus/Sentence contains 0 counts of 4-gram overlaps.\n",
      "BLEU scores might be undesirable; use SmoothingFunction().\n",
      "  warnings.warn(_msg)\n"
     ]
    }
   ],
   "source": [
    "with open(f'/Users/dpeskov/Downloads/HumanData/Speaker999.json') as fp:\n",
    "    tts_bleu = []\n",
    "    data = json.load(fp)\n",
    "    questions = data['questions']\n",
    "    human_data, single_speaker_bleu = [], []\n",
    "    for index, sentences in enumerate(data['questions']):\n",
    "        for sent_index, question in enumerate(sentences['sentences']):\n",
    "            bleu = bleu_comparison(' '.join(question), original_data[index][sent_index])\n",
    "            if bleu == 0:\n",
    "                print (question, original_data[index][sent_index])\n",
    "            single_speaker_bleu.append(bleu)\n",
    "        print(sum(single_speaker_bleu)/len(single_speaker_bleu))\n",
    "    tts_bleu.append(single_speaker_bleu)\n"
   ]
  },
  {
   "cell_type": "code",
   "execution_count": 17,
   "metadata": {},
   "outputs": [],
   "source": [
    "#run above code on range 999,1000 (file is speaker999)\n",
    "\n",
    "with open(f'/Users/dpeskov/Downloads/HumanData/Speaker999.json') as fp:\n",
    "    tts_wer = []\n",
    "    data = json.load(fp)\n",
    "    #human_data, single_speaker_bleu = [], []\n",
    "    for index, sentences in enumerate(data['questions']):\n",
    "        for sent_index, question in enumerate(sentences['sentences']):\n",
    "            sent_wer = wer(original_data[index][sent_index], ' '.join(question))\n",
    "            #print(original_data[index][sent_index])\n",
    "            #print(' '.join(question))\n",
    "            tts_wer.append(sent_wer)\n",
    "#tts_wer"
   ]
  },
  {
   "cell_type": "code",
   "execution_count": 18,
   "metadata": {},
   "outputs": [],
   "source": [
    "with open(f'/Users/dpeskov/Documents/PhD/QBASR_Files/HumanData_Original.json') as fp:\n",
    "    data = json.load(fp)\n",
    "        \n",
    "    questions = data['questions']\n",
    "\n",
    "    guesser_data = []\n",
    "    for question in data['questions']:\n",
    "        # extract all the relevant questions for given fold\n",
    "        if question['fold'] == 'guesstrain':\n",
    "            guesser_data.append([question['text'],  question['tokenizations'], question['page'], question['qanta_id']])"
   ]
  },
  {
   "cell_type": "code",
   "execution_count": 19,
   "metadata": {},
   "outputs": [
    {
     "name": "stdout",
     "output_type": "stream",
     "text": [
      "1\n",
      "2\n",
      "3\n",
      "4\n",
      "5\n"
     ]
    }
   ],
   "source": [
    "original_data = []\n",
    "for i in range(5):\n",
    "    print(guesser_data[i][3])\n",
    "    tokens = guesser_data[i][1]\n",
    "    single_question = []\n",
    "    for token in tokens:\n",
    "        single_question.append(guesser_data[i][0][token[0]:token[1]].lower().translate(str.maketrans('', '', string.punctuation)))\n",
    "    original_data.append(single_question)"
   ]
  },
  {
   "cell_type": "code",
   "execution_count": 20,
   "metadata": {},
   "outputs": [],
   "source": [
    "data = [] \n",
    "for text, tokens, page, qnum in guesser_data:\n",
    "        for sent_count, token in enumerate(tokens):\n",
    "            data.append([qnum, sent_count, text[token[0]:token[1]], page])"
   ]
  },
  {
   "cell_type": "code",
   "execution_count": 21,
   "metadata": {
    "scrolled": true
   },
   "outputs": [
    {
     "data": {
      "image/png": "[encoded data removed]",
      "text/plain": [
       "<matplotlib.figure.Figure at 0x1a0aa47710>"
      ]
     },
     "metadata": {},
     "output_type": "display_data"
    }
   ],
   "source": [
    "import matplotlib\n",
    "matplotlib.rcParams.update({'font.size': 30})\n",
    "import matplotlib.pyplot as plt\n",
    "x = [x for x in range(1, 4)]\n",
    "plt.figure(figsize=(20,10))\n",
    "\n",
    "#line2 = plt.hist(tts)\n",
    "#plt.legend((line1, line2), (\"Human\", \"TTS\"))\n",
    "plt.hist(tts_bleu, bins=[x/5 for x in range(0,5)], histtype = \"stepfilled\", color = '.8')\n",
    "plt.hist(all_speaker, bins=[x/5 for x in range(0,5)])\n",
    "plt.legend(['ASR']+[x for x in range(10)])\n",
    "\n",
    "plt.title(\"Human BLEU Scores\")\n",
    "plt.xlabel(\"Normalized BLEU Score\")\n",
    "plt.ylabel(\"Frequency, by Speaker\")\n",
    "\n",
    "\n",
    "plt.show()\n",
    "#plt.hist(tts)\n",
    "#plt.show()"
   ]
  },
  {
   "cell_type": "markdown",
   "metadata": {},
   "source": [
    "### Extra Code"
   ]
  },
  {
   "cell_type": "code",
   "execution_count": 22,
   "metadata": {},
   "outputs": [],
   "source": [
    "#test code to make sure bleu works properly\n",
    "def bleu_comparison(original, human, tts):\n",
    "    human_bleu = nltk.translate.bleu_score.sentence_bleu( [human.lower().split()], original.lower().split())\n",
    "    tts_bleu = nltk.translate.bleu_score.sentence_bleu( [tts.lower().split()], original.lower().split())\n",
    "    return human_bleu, tts_bleu\n",
    "\n",
    "all_data = []\n",
    "\n",
    "data_orig = \"A public safety exclusion was added to the ruling in this Supreme Court case in New York v. Quarles, which concerned a man who discarded a firearm in a crowded grocery store.\"\n",
    "data_human = \"the public safety exclusion was added to the ruling invest supreme court case in new york versus cordless which concerned a man who discarded a firearm in a crowded grocery store\"\n",
    "data_tts = \"a public safety at clues in with added to the <unk> the <unk> court case in new york city coral which concerned a man who discarded a firearm in a crowded grocery store\"\n",
    "all_data.append(bleu_comparison(data_orig, data_human, data_tts))\n",
    "\n",
    "\n",
    "data_orig = \"The Feynman Ratchet is a discredited perpetual motion machine that made use of this phenomenon in the form of heat fluctuations.\"\n",
    "data_human = \"defining in russia is it discredited perpetual emotion machine that made use of this phenomenon in the form of <unk>\"\n",
    "data_tts = \"the <unk> the discredited perpetual motion machine that made you think of this phenomenon in the form of heat fluctuation \"\n",
    "bleu_comparison(data_orig, data_human, data_tts)\n",
    "all_data.append(bleu_comparison(data_orig, data_human, data_tts))\n",
    "\n",
    "data_orig = \"this object appears in the back right of a painting that shows five workers moving grain around a watermill.\"\n",
    "data_human = \"this object appears in the back right as a painting that shows five workers moving green around a water and milk\"\n",
    "data_tts = \"this object appears in the background of our painting that shows five workers moving grain around water mill \"\n",
    "bleu_comparison(data_orig, data_human, data_tts)\n",
    "all_data.append(bleu_comparison(data_orig, data_human, data_tts))"
   ]
  },
  {
   "cell_type": "code",
   "execution_count": 23,
   "metadata": {},
   "outputs": [],
   "source": [
    "## THERE ARE 2 sentences total in the dataset that make counts not match up caused by a tokenization issue in original data [468:469]\n",
    "\n",
    "# q_counter = 0\n",
    "# for q in clean_data:\n",
    "#     if q['fold'] == 'guesstest':\n",
    "#         sentences =  [item['sentences'] for item in asr_data]\n",
    "#         if len(q['tokenizations']) != len(sentences[q_counter]):\n",
    "#             print(q['tokenizations'], asr_q)\n",
    "#             print(f\"NEED TO REMOVE {q['qanta_id']} from data\")\n",
    "#         q_counter+=1\n",
    "\n",
    "        \n",
    "#these two q_ids need to removed from both clean and asr [130135, 106424]\n",
    "#EXTRA CODE\n",
    "#       \n",
    "#             if (q['qanta_id'] in [130135, 106424]):\n",
    "#                 if (sent[1]-sent[0] == 1):\n",
    "#                     print ('caught')\n",
    "#                     print(len(orig_s))\n",
    "#                     continue\n",
    "# \n",
    "\n",
    "# wers = []\n",
    "# for index, q in enumerate(cleaned_s[:1000]):\n",
    "#     calc = wer(orig_s[index], cleaned_s[index])\n",
    "#     print(calc)\n",
    "#     #if (calc > .8 or calc < .2):\n",
    "#         #print(orig_p[index][:100], cleaned_p[index][:100])\n",
    "#     wers.append(calc)\n",
    "# sum(wers)/len(wers)\n",
    "\n",
    "#not sure what for originally but in random cells:\n",
    "\n",
    "#text = \"This object appears in the back right of a painting that shows five workers moving grain around a watermill.  This object is rendered in bright red and beneath a light smattering of clouds in the painting South Wind, Clear Sky.  This object appears between two boats tossing in a furious storm in the painting The Great Wave off Kanagawa. Katsushika Hokusai created thirty six views of, For ten points, what Japanese landmark?  \"\n",
    "#tokenizer.span_tokenize(text)\n",
    "#data[0][2]\n",
    "#human = [.5, .55, .65, .66, .5, .4, .8,.75, .78,  .9, .55]\n",
    "#human = sorted([score[0] for score in all_data])\n",
    "#tts = sorted([score[1] for score in all_data])"
   ]
  }
 ],
 "metadata": {
  "celltoolbar": "Raw Cell Format",
  "kernelspec": {
   "display_name": "Python [conda env:ASR]",
   "language": "python",
   "name": "conda-env-ASR-py"
  },
  "language_info": {
   "codemirror_mode": {
    "name": "ipython",
    "version": 3
   },
   "file_extension": ".py",
   "mimetype": "text/x-python",
   "name": "python",
   "nbconvert_exporter": "python",
   "pygments_lexer": "ipython3",
   "version": "3.6.4"
  }
 },
 "nbformat": 4,
 "nbformat_minor": 1
}
